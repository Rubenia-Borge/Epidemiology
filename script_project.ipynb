{
 "cells": [
  {
   "cell_type": "code",
   "execution_count": null,
   "metadata": {},
   "outputs": [],
   "source": [
    "# Python Scripts\n",
    "# This notebook is used to parse fasta files and extract regions of a genome which you are interested in.\n",
    "\n",
    "from Bio import SeqIO\n",
    "from itertools import islice\n",
    "\n",
    "# This sets the path and file name that contains the raw whole genome data.\n",
    "# Make sure your slashes go /\n",
    "\n",
    "mydatadirpath = \"C:/Users/Jamie/Desktop/Protocol Test\"\n",
    "FastaImportFile = \"E_gisaid_hcov-19_2020_09_30_15.fasta\"\n",
    "FileToImport = mydatadirpath + FastaImportFile\n",
    "\n",
    "# The output will be put into a file named ExportFastaFile.fasta\" in the same directory that your input data is in.\n",
    "FileToExportTo = mydatadirpath + \"ExportFastaFile.fasta\"\n",
    "\n",
    "# This determines how many records are in the active fasta file.\n",
    "recordslist = list(SeqIO.parse(FileToImport,\"fasta\"))\n",
    "numrecords = len(recordslist)\n",
    "\n",
    "# This is where you set the range that you want to slice out of the fasta file.\n",
    "CutRangerStart = 21281\n",
    "CutRangerStop = 2560\n",
    "\n",
    "# This is where you se the time point. In our case it will be either P, E, M, or L\n",
    "TimePoint = \"E\"\n",
    "\n",
    "# This uses the parse function of SeqIO to parse a fasta file as individual records.\n",
    "records = SeqIO.parse(FileToImport,\"fasta\")\n",
    "f = open(FileToExportTo,\"w+\")\n",
    "\n",
    "# This is the code that slices the dataset record by record and saves it. Line 17 or 19\n",
    "# will need to be deactivated according to the dataset you are using.\n",
    "\n",
    "for record in islice(records, numrecords):\n",
    "    Name = record.description\n",
    "    # Use the code below for E, M, and L datasets\n",
    "    EPI = Name.split(\"|\",1)[1]\n",
    "    # Use the code below for P dataset\n",
    "    #EPI = str(record.name)\n",
    "    \n",
    "    seqstring = str(record.seq[CutRangeStart:CutRangeStop])\n",
    "    \n",
    "    f.write(\">\" + TimePoint + EPI + \"\\n\" + seqstring + \"\\n\")\n",
    "\n",
    "f.close()"
   ]
  },
  {
   "cell_type": "code",
   "execution_count": null,
   "metadata": {},
   "outputs": [],
   "source": [
    "# Python Scripts\n",
    "# This notebook is used to parse fasta files and extract regions of a genome which you are interested in.\n",
    "\n",
    "from Bio import SeqIO\n",
    "from itertools import islice\n",
    "import pandas\n",
    "import os\n",
    "\n",
    "\n",
    "# This sets the path and file name that contains the raw whole genome data.\n",
    "# Make sure your slashes go /\n",
    "\n",
    "mydatadirpath = \"C:\\\\Users\\\\ruben\\\\biocomputing_project_data\\\\\"\n",
    "FastaImportFile = \"(E)gisaid_hcov-19_2020_09_30_15.fasta\"\n",
    "FileToImport = mydatadirpath + FastaImportFile\n",
    "\n",
    "# The output will be put into a file named ExportFastaFile.fasta\" in the same directory that your input data is in.\n",
    "FileToExportTo = mydatadirpath + \"ExportFastaFile.fasta\"\n",
    "\n",
    "# This determines how many records are in the active fasta file.\n",
    "recordslist = list(SeqIO.parse(FileToImport,\"fasta\"))\n",
    "numrecords = len(recordslist)\n",
    "\n",
    "# This is where you set the range that you want to slice out of the fasta file.\n",
    "CutRangeStart = 21281\n",
    "CutRangeStop = 2560\n",
    "\n",
    "# This is where you se the time point. In our case it will be either P, E, M, or L\n",
    "TimePoint = \"E\"\n",
    "\n",
    "# This uses the parse function of SeqIO to parse a fasta file as individual records.\n",
    "records = SeqIO.parse(FileToImport,\"fasta\")\n",
    "f = open(FileToExportTo,\"w+\")\n",
    "\n",
    "# This is the code that slices the dataset record by record and saves it. Line 17 or 19\n",
    "# will need to be deactivated according to the dataset you are using.\n",
    "\n",
    "for record in islice(records, numrecords):\n",
    "    Name = record.description\n",
    "    # Use the code below for E, M, and L datasets\n",
    "    EPI = Name.split(\"|\",1)[1]\n",
    "    # Use the code below for P dataset\n",
    "    #EPI = str(record.name)\n",
    "    \n",
    "    seqstring = str(record.seq[CutRangeStart:CutRangeStop])\n",
    "    \n",
    "    f.write(\">\" + TimePoint + EPI + \"\\n\" + seqstring + \"\\n\")\n",
    "\n",
    "f.close()"
   ]
  },
  {
   "cell_type": "code",
   "execution_count": null,
   "metadata": {},
   "outputs": [],
   "source": [
    "import pandas\n",
    "import os"
   ]
  },
  {
   "cell_type": "code",
   "execution_count": 1,
   "metadata": {},
   "outputs": [
    {
     "data": {
      "text/plain": [
       "'C:\\\\Users\\\\ruben\\\\biocomputing_project_data'"
      ]
     },
     "execution_count": 1,
     "metadata": {},
     "output_type": "execute_result"
    }
   ],
   "source": [
    "pwd"
   ]
  },
  {
   "cell_type": "code",
   "execution_count": null,
   "metadata": {},
   "outputs": [],
   "source": []
  }
 ],
 "metadata": {
  "kernelspec": {
   "display_name": "Python 3",
   "language": "python",
   "name": "python3"
  },
  "language_info": {
   "codemirror_mode": {
    "name": "ipython",
    "version": 3
   },
   "file_extension": ".py",
   "mimetype": "text/x-python",
   "name": "python",
   "nbconvert_exporter": "python",
   "pygments_lexer": "ipython3",
   "version": "3.8.3"
  }
 },
 "nbformat": 4,
 "nbformat_minor": 4
}
